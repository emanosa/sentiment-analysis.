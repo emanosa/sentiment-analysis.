{
 "cells": [
  {
   "cell_type": "code",
   "execution_count": 1,
   "metadata": {},
   "outputs": [],
   "source": [
    "import pickle\n",
    "import tkinter as tk\n",
    "from tkinter import ttk\n",
    "from tensorflow.keras.models import load_model\n",
    "from sklearn.feature_extraction.text import TfidfVectorizer\n",
    "import nltk\n",
    "from nltk.tokenize import word_tokenize\n",
    "from nltk.stem import WordNetLemmatizer\n",
    "from nltk.corpus import stopwords"
   ]
  },
  {
   "cell_type": "code",
   "execution_count": 2,
   "metadata": {},
   "outputs": [],
   "source": [
    "# Load necessary NLTK resources\n",
    "#nltk.download('punkt')\n",
    "#nltk.download('wordnet')\n",
    "#nltk.download('stopwords')"
   ]
  },
  {
   "cell_type": "code",
   "execution_count": 3,
   "metadata": {},
   "outputs": [],
   "source": [
    "# Load the saved model\n",
    "model = load_model('sentimental analysis model.h5')\n",
    "\n",
    "# Load the saved TF-IDF vectorizer\n",
    "with open('tfidf_vectorizer.pkl', 'rb') as f:\n",
    "    vectorizer = pickle.load(f)"
   ]
  },
  {
   "cell_type": "code",
   "execution_count": 4,
   "metadata": {},
   "outputs": [],
   "source": [
    "# Preprocessing function\n",
    "def preprocess_text(text):\n",
    "    stop_words = set(stopwords.words('english'))\n",
    "    lemmatizer = WordNetLemmatizer()\n",
    "\n",
    "    # Tokenize, remove stopwords, and lemmatize\n",
    "    tokens = word_tokenize(text.lower())\n",
    "    filtered_tokens = [token for token in tokens if token not in stop_words]\n",
    "    lemmatized_tokens = [lemmatizer.lemmatize(token) for token in filtered_tokens]\n",
    "\n",
    "    # Join tokens back into a single string\n",
    "    preprocessed_text = ' '.join(lemmatized_tokens)\n",
    "    return preprocessed_text\n"
   ]
  },
  {
   "cell_type": "code",
   "execution_count": 5,
   "metadata": {},
   "outputs": [],
   "source": [
    "# Function to make sentiment prediction\n",
    "def predict_sentiment(user_input):\n",
    "    # Preprocess the input text\n",
    "    processed_text = preprocess_text(user_input)\n",
    "\n",
    "    # Transform input text using the loaded vectorizer\n",
    "    input_vector = vectorizer.transform([processed_text])\n",
    "\n",
    "    # Make prediction (sigmoid output will be between 0 and 1)\n",
    "    prediction = model.predict(input_vector.toarray())\n",
    "\n",
    "    # Return sentiment based on prediction threshold (e.g., 0.5)\n",
    "    if prediction >= 0.5:\n",
    "        return \"Positive sentiment\"\n",
    "    else:\n",
    "        return \"Negative sentiment\"\n"
   ]
  },
  {
   "cell_type": "code",
   "execution_count": 7,
   "metadata": {},
   "outputs": [],
   "source": [
    "# Function to handle prediction\n",
    "def predict():\n",
    "    user_input = text_input.get(\"1.0\", tk.END).strip()\n",
    "    sentiment = predict_sentiment(user_input)\n",
    "    result_label.config(text=f\"Predicted sentiment: {sentiment}\")"
   ]
  },
  {
   "cell_type": "code",
   "execution_count": 8,
   "metadata": {},
   "outputs": [
    {
     "name": "stdout",
     "output_type": "stream",
     "text": [
      "1/1 [==============================] - 0s 14ms/step\n"
     ]
    }
   ],
   "source": [
    "# Create the main window\n",
    "root = tk.Tk()\n",
    "root.title(\"Sentiment Analysis GUI\")\n",
    "\n",
    "# Create a text input field\n",
    "text_input = tk.Text(root, height=10, width=40)\n",
    "text_input.pack(padx=10, pady=10)\n",
    "\n",
    "# Create a button to trigger prediction\n",
    "predict_button = ttk.Button(root, text=\"Predict Sentiment\", command=predict)\n",
    "predict_button.pack(padx=10, pady=10)\n",
    "\n",
    "# Create a label to display the result\n",
    "result_label = tk.Label(root, text=\"\")\n",
    "result_label.pack(padx=10, pady=10)\n",
    "\n",
    "# Start the main loop\n",
    "root.mainloop()"
   ]
  }
 ],
 "metadata": {
  "kernelspec": {
   "display_name": "Python 3",
   "language": "python",
   "name": "python3"
  },
  "language_info": {
   "codemirror_mode": {
    "name": "ipython",
    "version": 3
   },
   "file_extension": ".py",
   "mimetype": "text/x-python",
   "name": "python",
   "nbconvert_exporter": "python",
   "pygments_lexer": "ipython3",
   "version": "3.11.9"
  }
 },
 "nbformat": 4,
 "nbformat_minor": 2
}
